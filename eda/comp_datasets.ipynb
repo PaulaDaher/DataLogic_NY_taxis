{
 "cells": [
  {
   "cell_type": "code",
   "execution_count": 4,
   "metadata": {},
   "outputs": [],
   "source": [
    "# Librerías\n",
    "\n",
    "import pandas as pd\n",
    "import dask.dataframe as dd\n",
    "import dtale"
   ]
  },
  {
   "cell_type": "code",
   "execution_count": 5,
   "metadata": {},
   "outputs": [
    {
     "name": "stderr",
     "output_type": "stream",
     "text": [
      "C:\\Users\\santo\\AppData\\Local\\Temp\\ipykernel_18308\\2515133533.py:1: DtypeWarning:\n",
      "\n",
      "Columns (73,75) have mixed types. Specify dtype option on import or set low_memory=False.\n",
      "\n"
     ]
    }
   ],
   "source": [
    "df = pd.read_csv('../dataset/Vehicle Fuel Economy Data.csv')"
   ]
  },
  {
   "cell_type": "code",
   "execution_count": 4,
   "metadata": {},
   "outputs": [
    {
     "data": {
      "text/html": [
       "<div>\n",
       "<style scoped>\n",
       "    .dataframe tbody tr th:only-of-type {\n",
       "        vertical-align: middle;\n",
       "    }\n",
       "\n",
       "    .dataframe tbody tr th {\n",
       "        vertical-align: top;\n",
       "    }\n",
       "\n",
       "    .dataframe thead th {\n",
       "        text-align: right;\n",
       "    }\n",
       "</style>\n",
       "<table border=\"1\" class=\"dataframe\">\n",
       "  <thead>\n",
       "    <tr style=\"text-align: right;\">\n",
       "      <th></th>\n",
       "      <th>Year</th>\n",
       "      <th>Manufacturer</th>\n",
       "      <th>Model</th>\n",
       "      <th>barrels08</th>\n",
       "      <th>barrelsA08</th>\n",
       "      <th>charge240</th>\n",
       "      <th>city08</th>\n",
       "      <th>city08U</th>\n",
       "      <th>cityA08</th>\n",
       "      <th>cityA08U</th>\n",
       "      <th>...</th>\n",
       "      <th>mfrCode</th>\n",
       "      <th>c240Dscr</th>\n",
       "      <th>charge240b</th>\n",
       "      <th>c240bDscr</th>\n",
       "      <th>createdOn</th>\n",
       "      <th>modifiedOn</th>\n",
       "      <th>startStop</th>\n",
       "      <th>phevCity</th>\n",
       "      <th>phevHwy</th>\n",
       "      <th>phevComb</th>\n",
       "    </tr>\n",
       "  </thead>\n",
       "  <tbody>\n",
       "    <tr>\n",
       "      <th>0</th>\n",
       "      <td>2017</td>\n",
       "      <td>BMW</td>\n",
       "      <td>M6 Coupe</td>\n",
       "      <td>17.500588</td>\n",
       "      <td>0.0</td>\n",
       "      <td>0.0</td>\n",
       "      <td>15.0</td>\n",
       "      <td>14.0</td>\n",
       "      <td>0.0</td>\n",
       "      <td>0.0</td>\n",
       "      <td>...</td>\n",
       "      <td>BMX</td>\n",
       "      <td>NaN</td>\n",
       "      <td>0.0</td>\n",
       "      <td>NaN</td>\n",
       "      <td>04-04-2016</td>\n",
       "      <td>09-09-2016</td>\n",
       "      <td>Y</td>\n",
       "      <td>0.0</td>\n",
       "      <td>0.0</td>\n",
       "      <td>0.0</td>\n",
       "    </tr>\n",
       "    <tr>\n",
       "      <th>1</th>\n",
       "      <td>2017</td>\n",
       "      <td>BMW</td>\n",
       "      <td>X3 sDrive28i</td>\n",
       "      <td>12.396250</td>\n",
       "      <td>0.0</td>\n",
       "      <td>0.0</td>\n",
       "      <td>21.0</td>\n",
       "      <td>21.0</td>\n",
       "      <td>0.0</td>\n",
       "      <td>0.0</td>\n",
       "      <td>...</td>\n",
       "      <td>BMX</td>\n",
       "      <td>NaN</td>\n",
       "      <td>0.0</td>\n",
       "      <td>NaN</td>\n",
       "      <td>04-04-2016</td>\n",
       "      <td>22-11-2016</td>\n",
       "      <td>Y</td>\n",
       "      <td>0.0</td>\n",
       "      <td>0.0</td>\n",
       "      <td>0.0</td>\n",
       "    </tr>\n",
       "  </tbody>\n",
       "</table>\n",
       "<p>2 rows × 82 columns</p>\n",
       "</div>"
      ],
      "text/plain": [
       "   Year Manufacturer         Model  barrels08  barrelsA08  charge240  city08  \\\n",
       "0  2017          BMW      M6 Coupe  17.500588         0.0        0.0    15.0   \n",
       "1  2017          BMW  X3 sDrive28i  12.396250         0.0        0.0    21.0   \n",
       "\n",
       "   city08U  cityA08  cityA08U  ...  mfrCode  c240Dscr  charge240b  c240bDscr  \\\n",
       "0     14.0      0.0       0.0  ...      BMX       NaN         0.0        NaN   \n",
       "1     21.0      0.0       0.0  ...      BMX       NaN         0.0        NaN   \n",
       "\n",
       "    createdOn  modifiedOn  startStop  phevCity  phevHwy  phevComb  \n",
       "0  04-04-2016  09-09-2016          Y       0.0      0.0       0.0  \n",
       "1  04-04-2016  22-11-2016          Y       0.0      0.0       0.0  \n",
       "\n",
       "[2 rows x 82 columns]"
      ]
     },
     "execution_count": 4,
     "metadata": {},
     "output_type": "execute_result"
    }
   ],
   "source": [
    "df.head(2)"
   ]
  },
  {
   "cell_type": "code",
   "execution_count": 6,
   "metadata": {},
   "outputs": [
    {
     "name": "stderr",
     "output_type": "stream",
     "text": [
      "Done! Use 'show' commands to display/save.   |██████████| [100%]   00:12 -> (00:00 left)\n"
     ]
    },
    {
     "name": "stdout",
     "output_type": "stream",
     "text": [
      "Report EDA.html was generated! NOTEBOOK/COLAB USERS: the web browser MAY not pop up, regardless, the report IS saved in your notebook/colab files.\n"
     ]
    }
   ],
   "source": [
    "import sweetviz as sv\n",
    "\n",
    "report = sv.analyze(df)\n",
    "report.show_html('EDA.html')"
   ]
  },
  {
   "cell_type": "code",
   "execution_count": 7,
   "metadata": {},
   "outputs": [],
   "source": [
    "df_electric = pd.read_csv('../dataset/ElectricCarData_Clean.csv')"
   ]
  },
  {
   "cell_type": "code",
   "execution_count": 8,
   "metadata": {},
   "outputs": [
    {
     "name": "stderr",
     "output_type": "stream",
     "text": [
      "Done! Use 'show' commands to display/save.   |██████████| [100%]   00:00 -> (00:00 left)\n"
     ]
    },
    {
     "name": "stdout",
     "output_type": "stream",
     "text": [
      "Report EDA_Electric.html was generated! NOTEBOOK/COLAB USERS: the web browser MAY not pop up, regardless, the report IS saved in your notebook/colab files.\n"
     ]
    }
   ],
   "source": [
    "report_electric = sv.analyze(df_electric)\n",
    "report_electric.show_html('EDA_Electric.html')"
   ]
  },
  {
   "cell_type": "code",
   "execution_count": 9,
   "metadata": {},
   "outputs": [
    {
     "name": "stderr",
     "output_type": "stream",
     "text": [
      "Done! Use 'show' commands to display/save.   |██████████| [100%]   00:00 -> (00:00 left)\n"
     ]
    },
    {
     "name": "stdout",
     "output_type": "stream",
     "text": [
      "Report EDA_Zones.html was generated! NOTEBOOK/COLAB USERS: the web browser MAY not pop up, regardless, the report IS saved in your notebook/colab files.\n"
     ]
    }
   ],
   "source": [
    "zones_df = pd.read_csv('../dataset/taxi+_zone_lookup.csv')\n",
    "\n",
    "report_zones = sv.analyze(zones_df)\n",
    "report_zones.show_html('EDA_Zones.html')"
   ]
  },
  {
   "cell_type": "code",
   "execution_count": 11,
   "metadata": {},
   "outputs": [],
   "source": [
    "from dbfread import DBF\n",
    "\n",
    "archivo = '../dataset/taxi_zones.dbf'\n",
    "\n",
    "dbf = DBF(archivo, load=True)\n",
    "\n",
    "zones2_df = pd.DataFrame(iter(dbf))"
   ]
  },
  {
   "cell_type": "code",
   "execution_count": 13,
   "metadata": {},
   "outputs": [
    {
     "name": "stderr",
     "output_type": "stream",
     "text": [
      "Done! Use 'show' commands to display/save.   |██████████| [100%]   00:00 -> (00:00 left)\n"
     ]
    },
    {
     "name": "stdout",
     "output_type": "stream",
     "text": [
      "Report EDA_Zones2.html was generated! NOTEBOOK/COLAB USERS: the web browser MAY not pop up, regardless, the report IS saved in your notebook/colab files.\n"
     ]
    }
   ],
   "source": [
    "report_zones2 = sv.analyze(zones2_df)\n",
    "report_zones2.show_html('EDA_Zones2.html')"
   ]
  },
  {
   "cell_type": "code",
   "execution_count": 14,
   "metadata": {},
   "outputs": [
    {
     "name": "stderr",
     "output_type": "stream",
     "text": [
      "Done! Use 'show' commands to display/save.   |██████████| [100%]   00:01 -> (00:00 left)\n"
     ]
    },
    {
     "name": "stdout",
     "output_type": "stream",
     "text": [
      "Report EDA_Light.html was generated! NOTEBOOK/COLAB USERS: the web browser MAY not pop up, regardless, the report IS saved in your notebook/colab files.\n",
      "---\n",
      "WARNING: one or more correlations had an edge-case/error and a 1.0 correlation was assigned\n",
      "(likely due to only having a single row, containing non-NaN values for both correlated features)\n",
      "Affected correlations:['Fuel ID/PHEV Total Range', 'Model Year/PHEV Total Range', 'PHEV Total Range/Fuel ID', 'PHEV Total Range/Model Year']\n"
     ]
    }
   ],
   "source": [
    "light_df = pd.read_csv('../dataset/Light Duty Vehicles.csv')\n",
    "\n",
    "report_light = sv.analyze(light_df)\n",
    "report_light.show_html('EDA_Light.html')"
   ]
  },
  {
   "cell_type": "code",
   "execution_count": 16,
   "metadata": {},
   "outputs": [],
   "source": [
    "electric_alt_df = pd.read_csv('../dataset/Electric and Alternative Fuel Charging Stations.csv', low_memory=False)"
   ]
  },
  {
   "cell_type": "code",
   "execution_count": 17,
   "metadata": {},
   "outputs": [
    {
     "name": "stderr",
     "output_type": "stream",
     "text": [
      "Done! Use 'show' commands to display/save.   |██████████| [100%]   00:02 -> (00:00 left)\n"
     ]
    },
    {
     "name": "stdout",
     "output_type": "stream",
     "text": [
      "Report EDA_Electric_Alt.html was generated! NOTEBOOK/COLAB USERS: the web browser MAY not pop up, regardless, the report IS saved in your notebook/colab files.\n"
     ]
    }
   ],
   "source": [
    "report_electric_alt = sv.analyze(electric_alt_df)\n",
    "report_electric_alt.show_html('EDA_Electric_Alt.html')\n"
   ]
  },
  {
   "cell_type": "code",
   "execution_count": 6,
   "metadata": {},
   "outputs": [
    {
     "name": "stderr",
     "output_type": "stream",
     "text": [
      "Done! Use 'show' commands to display/save.   |██████████| [100%]   00:01 -> (00:00 left)\n"
     ]
    },
    {
     "name": "stdout",
     "output_type": "stream",
     "text": [
      "Report EDA_Alternative_Fuel.html was generated! NOTEBOOK/COLAB USERS: the web browser MAY not pop up, regardless, the report IS saved in your notebook/colab files.\n"
     ]
    }
   ],
   "source": [
    "alternative_fuel_df = pd.read_csv('../dataset/Alternative Fuel Vehicles US.csv')\n",
    "\n",
    "report_alternative_fuel = sv.analyze(alternative_fuel_df)\n",
    "report_alternative_fuel.show_html('EDA_Alternative_Fuel.html')"
   ]
  },
  {
   "cell_type": "markdown",
   "metadata": {},
   "source": [
    "Este dataset proporciona información sobre vehículos con combustible alternativo, o sea, vehículos híbridos/eléctricos en su gran mayoría.\n",
    "A partir de estos datos podemos evaluar la autonomía y eficiencia operativa de los vehículos eléctricos o híbridos.\n",
    "\n",
    "Columnas a tener en cuenta:\n",
    "\n",
    "- Category: Indica la categoría del auto. Ejemplos: Sedan, Autobus, Furgoneta\n",
    "\n",
    "- Model: Indica el modelo del auto.\n",
    "\n",
    "- Model Year: Indica el año de fabricación. Sólo tenemos autos fabricados en el año 2021 y 2020.\n",
    "\n",
    "- Manufacturer: Fabricante del auto. \n",
    "\n",
    "- Fuel: Indica el tipo de combustible que utiliza el auto. Más del 30% son Híbridos y casi un 30% eléctricos. En su enorme mayoría son autos ecológicos.\n",
    "\n",
    "- All-electric Range: Indica la distancia máxima que un vehículo eléctrico puede recorrer con la carga completa de su batería. Medido en millas. 75% de valores faltantes.\n",
    "\n",
    "- PHEV total range: Indica la distancia máxima de vehículos eléctricos híbridos enchufables, utilizando tanto su motor eléctrico como su motor de combustión. Gran autonomía que va de 300 a 600 millas, sin embargo hay apenas 43 valores en esta columna, con un 95% de faltantes.\n",
    "\n",
    "- Alternative Fuel Economy City: Eficiencia del combustible alternativo en conducción urbana. 81% de faltantes.\n",
    "\n",
    "- Alternative Fuel Economy Highway: Eficiencia del combustible alternativo en conducción en autopista. 81% de faltantes.\n",
    "\n",
    "- Alternative Fuel Economy Combined: Eficiencia promedio del combustible alternativo en conducción combinada. 70% de faltantes\n",
    "\n",
    "- Conventional Fuel Economy City: Eficiencia del combustible convencional en conducción urbana. 50% de faltantes.\n",
    "\n",
    "- Conventional Fuel Economy Highway: Eficiencia del combustible convencional en conducción en autopista. 50% de faltantes.\n",
    "\n",
    "- Conventional Fuel Economy Combined: Eficiencia promedio del combustible convencional en conducción combinada. 50% de faltantes.\n",
    "\n",
    "- Transmission type: Transmisión del auto. Enorme mayoría de automáticos, con apenas 6 autos pertenecientes a transmisión manual.\n",
    "\n",
    "- Transmission make: Fabricante de la transmisión.\n",
    "\n",
    "- Engine type: Tipo de motor que utiliza el vehículo. Casi un 70% son SI (Spark Ignition; motor de gasolina).\n",
    "\n",
    "- Engine Size: Tamaño del motor del vehículo medido en litros.\n",
    "\n",
    "- Engine Cylinder Count: Número de cilindros que tiene el motor.\n",
    "\n",
    "- Number of Passengers: Número de pasajeros del vehículo. 86& de valores faltantes y la gran mayoría refiere a un número de pasajeros elevados, por lo que seguramente sólo hay datos de buses y vehículos de transporte de pasajeros a gran escala.\n",
    "\n",
    "- Heavy-Duty Power System: Indica si el vehículo está preparado para tareas pesadas y cual es su sistema en caso de tenerlo. 72% de faltantes.\n",
    "\n",
    "- Notes: Notas proporcionadas por el fabricante.\n",
    "\n",
    "- Drivetrain: Sistema de tracción del vehículo.\n",
    "\n",
    "Conclusion"
   ]
  }
 ],
 "metadata": {
  "kernelspec": {
   "display_name": "Python 3",
   "language": "python",
   "name": "python3"
  },
  "language_info": {
   "codemirror_mode": {
    "name": "ipython",
    "version": 3
   },
   "file_extension": ".py",
   "mimetype": "text/x-python",
   "name": "python",
   "nbconvert_exporter": "python",
   "pygments_lexer": "ipython3",
   "version": "3.11.8"
  }
 },
 "nbformat": 4,
 "nbformat_minor": 2
}
