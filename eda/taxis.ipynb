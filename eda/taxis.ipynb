{
 "cells": [
  {
   "cell_type": "code",
   "execution_count": 2,
   "metadata": {},
   "outputs": [],
   "source": [
    "# Importación de librerías\n",
    "\n",
    "import pandas as pd\n",
    "import dask.dataframe as dd"
   ]
  },
  {
   "cell_type": "markdown",
   "metadata": {},
   "source": [
    "### Cargamos los datasets de los primeros dos meses de 2019 para un análisis preliminar"
   ]
  },
  {
   "cell_type": "code",
   "execution_count": 4,
   "metadata": {},
   "outputs": [],
   "source": [
    "# URLS de los dataset\n",
    "\n",
    "urls = [\n",
    "    \"https://d37ci6vzurychx.cloudfront.net/trip-data/yellow_tripdata_2019-01.parquet\",\n",
    "    \"https://d37ci6vzurychx.cloudfront.net/trip-data/yellow_tripdata_2019-02.parquet\"\n",
    "]\n",
    "\n",
    "ddf = dd.read_parquet(urls)\n",
    "\n",
    "df = ddf.compute()"
   ]
  },
  {
   "cell_type": "code",
   "execution_count": 5,
   "metadata": {},
   "outputs": [
    {
     "name": "stderr",
     "output_type": "stream",
     "text": [
      "                                             |          | [  0%]   00:00 -> (? left)"
     ]
    },
    {
     "name": "stderr",
     "output_type": "stream",
     "text": [
      "Done! Use 'show' commands to display/save.   |██████████| [100%]   00:00 -> (00:00 left)\n"
     ]
    },
    {
     "name": "stdout",
     "output_type": "stream",
     "text": [
      "Report EDA_taxis.html was generated! NOTEBOOK/COLAB USERS: the web browser MAY not pop up, regardless, the report IS saved in your notebook/colab files.\n"
     ]
    }
   ],
   "source": [
    "import sweetviz as sv\n",
    "\n",
    "# Generación de reporte\n",
    "\n",
    "report = sv.analyze(df)\n",
    "report.show_html('EDA_taxis.html')"
   ]
  },
  {
   "cell_type": "markdown",
   "metadata": {},
   "source": [
    "### CONCLUSIÓN:\n",
    "\n",
    "En cuanto a nulos y errores no parece haber grandes problemas, sin embargo se presentan varios outliers a simple vista que quizá tengamos que chequear en el análisis.\n",
    "\n",
    "#### Columnas relevantes:\n",
    "- tpep_pickup_datetime --> La fecha y hora en que se activó el taxímetro.\n",
    "- tpep_dropoff_datetime --> La fecha y hora en que se desactivó el taxímetro.\n",
    "- Passenger_count --> El número de pasajeros en el vehículo. Este es un valor ingresado por el conductor.\n",
    "- Trip_distance --> La distancia del viaje en millas reportada por el taxímetro.\n",
    "- PULocationID --> Zona de Taxi TLC en la que se activó el taxímetro.\n",
    "- DOLocationID --> Zona de Taxi TLC en la que se desactivó el taxímetro.\n",
    "- Tolls_amount --> Monto total de todos los peajes pagados en el viaje.\n",
    "- Total_amount --> El monto total cobrado a los pasajeros. No incluye propinas en efectivo.\n",
    "- Congestion_Surcharge --> Monto total recaudado en el viaje por el recargo de congestión del estado de Nueva York.\n",
    "\n",
    "#### A evaluar su descarte:\n",
    "- RateCodeID --> El código de tarifa final en efecto al final del viaje. 1= Tarifa estándar; 2=JFK; 3=Newark; 4=Nassau o Westchester; 5=Tarifa negociada; 6=Viaje en grupo.\n",
    "- Payment_type --> Un código numérico que indica cómo pagó el pasajero por el viaje. 1= Tarjeta de crédito; 2= Efectivo; 3= Sin cargo; 4= Disputa; 5= Desconocido; 6= Viaje anulado.\n",
    "- Fare_amount --> La tarifa de tiempo y distancia calculada por el taxímetro.\n",
    "- Extra --> Extras y recargos misceláneos. Actualmente, esto solo incluye los cargos de $0.50 y $1 por hora pico y durante la noche.\n",
    "- MTA_tax --> $0.50 de impuesto MTA que se activa automáticamente según la tarifa del taxímetro en uso.\n",
    "- Improvement_surcharge --> $0.30 de recargo por mejoras evaluadas en los viajes al inicio. El recargo por mejoras comenzó a cobrarse en 2015.\n",
    "- Tip_amount --> Monto de la propina – Este campo se completa automáticamente para las propinas con tarjeta de crédito. Las propinas en efectivo no se incluyen.\n",
    "\n",
    "#### 100% descartada:\n",
    "- Store_and_fwd_flag --> Esta bandera indica si el registro del viaje se almacenó en la memoria del vehículo antes de enviarse al proveedor, también conocido como 'almacenar y reenviar', porque el vehículo no tenía conexión con el servidor. Y= viaje almacenado y reenviado; N= no es un viaje almacenado y reenviado."
   ]
  }
 ],
 "metadata": {
  "kernelspec": {
   "display_name": "myenv",
   "language": "python",
   "name": "python3"
  },
  "language_info": {
   "codemirror_mode": {
    "name": "ipython",
    "version": 3
   },
   "file_extension": ".py",
   "mimetype": "text/x-python",
   "name": "python",
   "nbconvert_exporter": "python",
   "pygments_lexer": "ipython3",
   "version": "3.11.8"
  }
 },
 "nbformat": 4,
 "nbformat_minor": 2
}
